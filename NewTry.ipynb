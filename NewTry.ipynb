{
 "cells": [
  {
   "cell_type": "code",
   "execution_count": 13,
   "metadata": {
    "collapsed": true
   },
   "outputs": [],
   "source": [
    "import pickle\n",
    "import matplotlib.pyplot as plt"
   ]
  },
  {
   "cell_type": "code",
   "execution_count": 202,
   "metadata": {
    "collapsed": true
   },
   "outputs": [],
   "source": [
    "database,scale_x,scale_y = pickle.load(open(\"db_dump.pkl\",\"rb\"))"
   ]
  },
  {
   "cell_type": "code",
   "execution_count": 5,
   "metadata": {
    "collapsed": true
   },
   "outputs": [],
   "source": [
    "import cv2"
   ]
  },
  {
   "cell_type": "code",
   "execution_count": 203,
   "metadata": {
    "collapsed": false
   },
   "outputs": [
    {
     "ename": "TypeError",
     "evalue": "bad argument type for built-in operation",
     "output_type": "error",
     "traceback": [
      "\u001b[0;31m---------------------------------------------------------------------------\u001b[0m",
      "\u001b[0;31mTypeError\u001b[0m                                 Traceback (most recent call last)",
      "\u001b[0;32m<ipython-input-203-fd5a02fad546>\u001b[0m in \u001b[0;36m<module>\u001b[0;34m()\u001b[0m\n\u001b[0;32m----> 1\u001b[0;31m \u001b[0mimg\u001b[0m \u001b[0;34m=\u001b[0m \u001b[0mcv2\u001b[0m\u001b[0;34m.\u001b[0m\u001b[0mimread\u001b[0m\u001b[0;34m(\u001b[0m\u001b[0mdatabase\u001b[0m\u001b[0;34m[\u001b[0m\u001b[0;36m0\u001b[0m\u001b[0;34m]\u001b[0m\u001b[0;34m[\u001b[0m\u001b[0;36m0\u001b[0m\u001b[0;34m]\u001b[0m\u001b[0;34m)\u001b[0m\u001b[0;34m\u001b[0m\u001b[0m\n\u001b[0m",
      "\u001b[0;31mTypeError\u001b[0m: bad argument type for built-in operation"
     ]
    }
   ],
   "source": [
    "img = cv2.imread(database[0][0])"
   ]
  },
  {
   "cell_type": "code",
   "execution_count": 212,
   "metadata": {
    "collapsed": false
   },
   "outputs": [
    {
     "name": "stdout",
     "output_type": "stream",
     "text": [
      "142\n",
      "173\n",
      "196\n",
      "242\n",
      "271\n",
      "284\n",
      "298\n",
      "360\n",
      "413\n",
      "587\n",
      "600\n",
      "754\n",
      "814\n",
      "858\n",
      "936\n"
     ]
    },
    {
     "data": {
      "text/plain": [
       "'bird'"
      ]
     },
     "execution_count": 212,
     "metadata": {},
     "output_type": "execute_result"
    }
   ],
   "source": [
    "for (i,d) in enumerate(database):\n",
    "    if d[2] == 'chicken':\n",
    "        print(i)\n",
    "database[9][2]"
   ]
  },
  {
   "cell_type": "code",
   "execution_count": 213,
   "metadata": {
    "collapsed": false
   },
   "outputs": [
    {
     "data": {
      "image/png": "[encoded data removed]",
      "text/plain": [
       "<matplotlib.figure.Figure at 0x7fe01b8db9e8>"
      ]
     },
     "metadata": {},
     "output_type": "display_data"
    }
   ],
   "source": [
    "plt.imshow(database[142][0])\n",
    "plt.show()"
   ]
  },
  {
   "cell_type": "code",
   "execution_count": 97,
   "metadata": {
    "collapsed": false
   },
   "outputs": [
    {
     "name": "stdout",
     "output_type": "stream",
     "text": [
      "160.702902632\n"
     ]
    }
   ],
   "source": [
    "mm = []\n",
    "for P in database:\n",
    "    #P = database[13][0]\n",
    "    im2, contours, hierarchy = cv2.findContours(P[0], cv2.RETR_EXTERNAL, cv2.CHAIN_APPROX_NONE)\n",
    "    if len(contours) != 1:\n",
    "        kk = []\n",
    "        for c in contours:\n",
    "            kk.append(c.shape[0])\n",
    "        mm.append(float(kk[-1])/float(kk[-2]))\n",
    "print(np.array(mm).mean())\n",
    "        "
   ]
  },
  {
   "cell_type": "code",
   "execution_count": 108,
   "metadata": {
    "collapsed": false
   },
   "outputs": [
    {
     "name": "stdout",
     "output_type": "stream",
     "text": [
      "[array([[[2189, 1387]],\n",
      "\n",
      "       [[2188, 1388]],\n",
      "\n",
      "       [[2187, 1388]],\n",
      "\n",
      "       ..., \n",
      "       [[2192, 1387]],\n",
      "\n",
      "       [[2191, 1387]],\n",
      "\n",
      "       [[2190, 1387]]], dtype=int32)]\n"
     ]
    },
    {
     "data": {
      "image/png": "[encoded data removed]",
      "text/plain": [
       "<matplotlib.figure.Figure at 0x7fe03117fd30>"
      ]
     },
     "metadata": {},
     "output_type": "display_data"
    },
    {
     "name": "stdout",
     "output_type": "stream",
     "text": [
      "14571671\n"
     ]
    },
    {
     "data": {
      "text/plain": [
       "'6360060000633333333333333333336300006000063333333336000000000000000000633333333360000000006333333336600000006333333336300600000000000000000000000000000000000000000000000000000000063333333333333333333360000000006522222222533333335333333333333333333333333333333333333333333333333333333333333333333333333333333630000000006333333333352222522253333333335333333333333333333333333333333333333333333333333333333333333333333333333333333333333333335222225253335333333333333333333333333630000000063333333333333333333333333333333633363336360600066333333333333333333333335222522553533333333333633363363630660063333333333333333333363660000006333333333333333333333333333333333333333333366000000063333333333352252255353333333333636606000063333333333333333333336000000006333333333600060000633333336360000000000000000006333333333600000000000000000006333333363600000000000000000000000040411111411111111111111111111111111111111111111111111111111111111111111111111114000000401141111111111111111111111111111111111111111111111111111111111111111111111111111111111111400000000011411111114000000000000000000000000000000633333333333333333333333333333333333333333336000000006333333333333333333333333333333333333333333333333333333363333335333333333333333333333336333363336360600066333333336600060006333333363600000000000000000000000000000000000000000000000000000000000000000000006333333636600000000000000000000000000000000000441111111140000000000000000000411111111140000000041111111114000000040411111111140000000001111111111400000000014111111114040000041141111111111111111111111111111111111111111111111111111111111111111111111111111111111111111111111114000040041411111111111111111111111111111111111111111111111111111111111111111111111111111111111111111111111111111111111111171111712777177271111171111117172227222222222222771111111111111111111111111111111111111111111111111111111111111111111400000000411111111111111411111400000000141111111111111111111111111111111111111111111111111111111111111111111111111111400000400141111111111111111111111111111111111111111111111111111463333333660000006400604600000004000041111111114000000000141111111111111111111111111111111111111111114000000041411111111111111111111111111111111111111172272222271111111111111111111111111111111111111111111111111111117222222227111111711111111111712722222277111111777222222272222222271111117172722222222222222271111111111111111111111111111111111111117111122222222271111111111111111111111400040000411111111111111141111111111111111111111111111111111111111111111111111111111111111111111111111111111140000004011141111140000040041111111140000000000000000000000000040000000400441411111400000004014111111111111111111111111111112222222227111111111111111111111111111111111222222222740000000411141111111111711172227222271111111111111171171272227271111117117222222722222222222222222222222222222227111111111111111111111111111117112722222227111111111722222222711111111172222222222222222222222222222222222222222222222222222222222222222222222222222222222222222255333333335222222222222222222222222222222222252725222222222553533333352222222253353333335222222225333333333522222222535333333333333333333333333333333333333333335222222222222222222252222222535333333522522222253333333333333333333352222222225222252553533335222222222222222252223335333333522222222222222222223333353333522222222222222222223333333333333333333335222222225233333333335222222523533333335222222222222222222222222222222222225222533333333522222222222222222222222222222222222222522333333333352222222222271111117772272222252255533333552222222523333335335222222255333333333333333333333333333333333333333333522522225533333333333333333333333333333333333533333333333333333333333333333333333333333333333333333333333333525222553533333335333333333333333333333333333333333333333333333333333333333333333333333333333333333333333333333333333522222252335333333333333'"
      ]
     },
     "execution_count": 108,
     "metadata": {},
     "output_type": "execute_result"
    }
   ],
   "source": [
    "P = database[17][0]\n",
    "im2, contours, hierarchy = cv2.findContours(P, cv2.RETR_EXTERNAL, cv2.CHAIN_APPROX_NONE)\n",
    "print(contours)\n",
    "k = cv2.drawContours(np.zeros(P.shape), contours, 0, (255,0,0), 10)\n",
    "plt.imshow(k)\n",
    "plt.show()\n",
    "print((k==0).sum())\n",
    "get_freeman(contours[0])"
   ]
  },
  {
   "cell_type": "code",
   "execution_count": 107,
   "metadata": {
    "collapsed": false
   },
   "outputs": [],
   "source": [
    "dirs = {(0,1):'0',(1,0):'1',(0,-1):'2',(-1,0):'3',(1,1):'4',(-1,-1):'5',(-1,1):'6',(1,-1):'7'}\n",
    "def get_freeman(cnt):\n",
    "    free_man = ''\n",
    "    p = cnt[0][0]\n",
    "    for pp in cnt[1:]:\n",
    "        delta = pp[0]-p\n",
    "        p = pp[0]\n",
    "        free_man += dirs[(delta[0],delta[1])]\n",
    "    return free_man"
   ]
  },
  {
   "cell_type": "code",
   "execution_count": 43,
   "metadata": {
    "collapsed": false
   },
   "outputs": [],
   "source": [
    "import numpy as np"
   ]
  },
  {
   "cell_type": "code",
   "execution_count": 35,
   "metadata": {
    "collapsed": false
   },
   "outputs": [
    {
     "data": {
      "text/plain": [
       "(1687, 2815)"
      ]
     },
     "execution_count": 35,
     "metadata": {},
     "output_type": "execute_result"
    }
   ],
   "source": [
    "im2.shape"
   ]
  },
  {
   "cell_type": "code",
   "execution_count": 199,
   "metadata": {
    "collapsed": true
   },
   "outputs": [],
   "source": [
    "freeman_of = pickle.load(open(\"freeman_dump.pkl\", \"rb\"))"
   ]
  },
  {
   "cell_type": "code",
   "execution_count": 200,
   "metadata": {
    "collapsed": true
   },
   "outputs": [],
   "source": [
    "l = []\n",
    "for c in freeman_of:\n",
    "    l.append(freeman_of[c])"
   ]
  },
  {
   "cell_type": "code",
   "execution_count": 201,
   "metadata": {
    "collapsed": false
   },
   "outputs": [
    {
     "data": {
      "text/plain": [
       "'6333336336363666606000404444141141141111114111117111111711711717777722222552535353533533333533333333'"
      ]
     },
     "execution_count": 201,
     "metadata": {},
     "output_type": "execute_result"
    }
   ],
   "source": [
    "l[1]"
   ]
  },
  {
   "cell_type": "code",
   "execution_count": 116,
   "metadata": {
    "collapsed": false
   },
   "outputs": [
    {
     "data": {
      "text/plain": [
       "['__builtins__',\n",
       " '__cached__',\n",
       " '__doc__',\n",
       " '__file__',\n",
       " '__loader__',\n",
       " '__name__',\n",
       " '__package__',\n",
       " '__path__',\n",
       " '__spec__',\n",
       " '_levenshtein',\n",
       " 'apply_edit',\n",
       " 'distance',\n",
       " 'editops',\n",
       " 'hamming',\n",
       " 'inverse',\n",
       " 'jaro',\n",
       " 'jaro_winkler',\n",
       " 'matching_blocks',\n",
       " 'median',\n",
       " 'median_improve',\n",
       " 'opcodes',\n",
       " 'quickmedian',\n",
       " 'ratio',\n",
       " 'seqratio',\n",
       " 'setmedian',\n",
       " 'setratio',\n",
       " 'subtract_edit']"
      ]
     },
     "execution_count": 116,
     "metadata": {},
     "output_type": "execute_result"
    }
   ],
   "source": [
    "import Levenshtein as leven\n",
    "dir(leven)"
   ]
  },
  {
   "cell_type": "code",
   "execution_count": 120,
   "metadata": {
    "collapsed": false
   },
   "outputs": [
    {
     "data": {
      "text/plain": [
       "'063333333333333333033333333333333333333336630333333333333333300330633633333333330003333333333033330330033333336333333333000033303333333003333330330033333003330333333033333330333063333333330033303033330033300333333303333000036300333300033330003303333300330033033036330330330333003333003333300033333333333003333333000333330330033333033333333333300000333330331111313333333000333301333131100000131122322203333333333300223330633333330003332233033233311333300333333333333333113333333301333330033333033333333333333333330003333333333000033333333330333333000033333300003333333360003331030011311000000100031011331101333111101110000101111010000000010333333000010000000003113333111001001111131111000013333000011100000000000033000633333333333303333333333333333333333333303333330033333333333333333333033133331033333333006333333333330330333333333333033334333330033333333333000333306333300000113333300000013333003331110003300000000000100100001011000030111100030000000000000001100000000000110113300000103011400111111000000000300301140000330011000000011110111300011101000003313000111001111131300001000111111331110010111001001101101111111001100100031443011331330113300011133111113000113333300000313310000300130113311333301301111131331333116310111133333011433311111433111131131130113311331111311112331111131111113331333111111331311131111111313131113113113311113331111333311333313330331133331330033313313110033333333331101111133331031211111131111111111111123111113333311312133323332233312333311111122132133113111111113313223111311111111113222331222221322222113111122211111111312111111111111111112111111111111111111111111111111117111112211222211112222111111111111111111111111111111111111111111111121122111111111111111111112111111111111111111111111111111111111101111121111112111111111111111111111111111111111111111111111111111011111111111111111111111111101111111111111111111111411001111110110112011111010011111111111110111111111111111001111111111110010111111100001101011111111111111111011111111111111111111111111111100111100111110110010011111110001011111111000000011140001111100011100001111101101001110001100111100111111111111111101111140111111000011110110101111111111111110111111111111111011011001111111111111111011111111111111111111111111111111111111111111111111111111111111110111111111111111111111111111111111111111111111111111111111111111111111111111111111111111111111111111111111111111111111111111111111111111111111111111211111111111111111111111111111111111111111111111111111111111111111211112222221221112211311225232225533111111112222213313111123223333111112211132222222312222235312333322222235111332222222322223322222222523311132333333323333113333333301332333311223333331333320013333133330231222222331111332203222130113211113330120222252323313322222233000000000222221111111111111111211111111111113311411111112111110111111111111111111111131111101111111111111111121111111111111711111171111111111111111111111122212111111111121113331333311233313311311111133311111111111111111111111111333301111111111111111311111111111111011111111111111111111111111333311113311111113113311111113111111333331333311113301333313333111113333311133113113333331331133331333333333330133333333333333333333333332233332333333333333333333332223332237722223222222222113322221117222222221113222112222222222112222222232211122222222222111211222222333311222132211122222222232222222222122222211112122222211111112222133332222212122122233111122222122137121112222122222222223331331121121111121121123122111111221133332111122211233331111111112331111111111111111111111111111111111111111111111111111111041111111111111111111111111111111111111111111111111111111111111111111111111111111111111110111111111111111101111111111131111111111101111113111101111111221122211111111111111111111221111110111111111122221111111221111111111111111111111122233333331131333335232221323033335333333323333522223332353333322303333330233331133333333333323333332233333333333223333333023353322333333333333323333333522233333333333302333332333333333332233332233333333333333353335333333332300033333233333333233233333333333333333333333333333333333333332233333322333333233233523333323333333333333333333333333333333333233333333333332333333333333333333333333333333333333333333333333333333333333333333333333333333333333333333333333333333333333333333333322233332322233333333123333133333333333333333333333333223333333332233333333333333123332333113335233333322222322111223223333122222312232222222222213222223322222222222233332222222332222222232222222333523332222223333223333322332232232222322323332223223333333335223333333333322333333333333223333333333333333223333333335333333333333333333333333333333333333333333'"
      ]
     },
     "execution_count": 120,
     "metadata": {},
     "output_type": "execute_result"
    }
   ],
   "source": [
    "leven.quickmedian(l[:10])"
   ]
  },
  {
   "cell_type": "code",
   "execution_count": 139,
   "metadata": {
    "collapsed": false
   },
   "outputs": [
    {
     "name": "stdout",
     "output_type": "stream",
     "text": [
      "spring-4.pgm : spring spring-17.pgm : spring spring-9.pgm : spring spring-5.pgm : spring spring-10.pgm : spring device9-17.pgm : device9 device9-5.pgm : sea_snake device9-8.pgm : device9 device9-1.pgm : device9 device9-16.pgm : device9 teddy-9.pgm : teddy teddy-5.pgm : teddy teddy-18.pgm : teddy teddy-2.pgm : teddy teddy-8.pgm : teddy device6-9.pgm : device6 device6-1.pgm : device6 device6-7.pgm : device6 device6-20.pgm : device3 device6-17.pgm : device6 lmfish-18.pgm : watch lmfish-6.pgm : lmfish lmfish-10.pgm : lmfish lmfish-7.pgm : lmfish lmfish-8.pgm : lmfish device4-3.pgm : HCircle device4-5.pgm : device5 device4-19.pgm : device4 device4-20.pgm : device4 device4-17.pgm : hat tree-16.pgm : tree tree-8.pgm : tree tree-17.pgm : tree tree-20.pgm : tree tree-4.pgm : tree device1-10.pgm : device1 device1-1.pgm : device1 device1-16.pgm : device1 device1-2.pgm : device1 device1-17.pgm : device1 cup-16.pgm : cup cup-7.pgm : cup cup-4.pgm : device3 cup-17.pgm : cup cup-18.pgm : cup bird-19.pgm : bird bird-8.pgm : bird bird-7.pgm : bird bird-18.pgm : bird bird-6.pgm : fountain sea_snake-2.pgm : horseshoe sea_snake-1.pgm : sea_snake sea_snake-19.pgm : sea_snake sea_snake-20.pgm : horseshoe sea_snake-4.pgm : sea_snake octopus-16.pgm : octopus octopus-20.pgm : octopus octopus-8.pgm : octopus octopus-17.pgm : octopus octopus-5.pgm : octopus Heart-9.pgm : Heart Heart-16.pgm : Heart Heart-3.pgm : Heart Heart-10.pgm : Heart Heart-5.pgm : Heart apple-6.pgm : apple apple-19.pgm : apple apple-18.pgm : cellular_phone apple-4.pgm : apple apple-3.pgm : apple bell-16.pgm : bell bell-19.pgm : bell bell-7.pgm : bell bell-2.pgm : bell bell-4.pgm : bell truck-17.pgm : truck truck-2.pgm : truck truck-20.pgm : truck truck-19.pgm : truck truck-6.pgm : truck Glas-3.pgm : Glas Glas-10.pgm : Glas Glas-7.pgm : Glas Glas-20.pgm : Glas Glas-8.pgm : Glas cellular_phone-2.pgm : hat cellular_phone-3.pgm : Comma cellular_phone-6.pgm : cellular_phone cellular_phone-8.pgm : cellular_phone cellular_phone-16.pgm : cellular_phone personal_car-7.pgm : personal_car personal_car-1.pgm : personal_car personal_car-10.pgm : personal_car personal_car-3.pgm : personal_car personal_car-9.pgm : personal_car beetle-2.pgm : beetle beetle-1.pgm : beetle beetle-17.pgm : beetle beetle-6.pgm : beetle beetle-9.pgm : beetle chopper-8.pgm : chopper chopper-7.pgm : chopper chopper-2.pgm : chopper chopper-16.pgm : chopper chopper-3.pgm : chopper hat-9.pgm : hat hat-8.pgm : hat hat-4.pgm : bell hat-2.pgm : hat hat-16.pgm : hat device7-19.pgm : device7 device7-5.pgm : device7 device7-1.pgm : device7 device7-20.pgm : device7 device7-10.pgm : device7 HCircle-8.pgm : HCircle HCircle-4.pgm : HCircle HCircle-19.pgm : HCircle HCircle-5.pgm : HCircle HCircle-16.pgm : HCircle bat-3.pgm : bat bat-5.pgm : bat bat-9.pgm : bat bat-2.pgm : bat bat-18.pgm : bat Comma-9.pgm : Comma Comma-7.pgm : Comma Comma-6.pgm : Comma Comma-5.pgm : Comma Comma-20.pgm : Comma Bone-10.pgm : Bone Bone-17.pgm : Bone Bone-18.pgm : hammer Bone-3.pgm : Bone Bone-8.pgm : Bone brick-8.pgm : brick brick-1.pgm : brick brick-3.pgm : brick brick-5.pgm : brick brick-6.pgm : brick lizzard-20.pgm : lizzard lizzard-8.pgm : lizzard lizzard-1.pgm : lizzard lizzard-5.pgm : lizzard lizzard-9.pgm : ray jar-20.pgm : jar jar-6.pgm : jar jar-18.pgm : device9 jar-3.pgm : jar jar-19.pgm : device9 device0-3.pgm : device0 device0-1.pgm : device0 device0-17.pgm : device0 device0-16.pgm : device0 device0-9.pgm : device0 rat-2.pgm : rat rat-8.pgm : rat rat-10.pgm : rat rat-17.pgm : rat rat-9.pgm : cellular_phone carriage-6.pgm : carriage\n"
     ]
    }
   ],
   "source": [
    "m = input()"
   ]
  },
  {
   "cell_type": "code",
   "execution_count": 140,
   "metadata": {
    "collapsed": false
   },
   "outputs": [],
   "source": [
    "k = 0\n",
    "l = 0\n",
    "for i in range(0,len(m.split(\" \")),3):\n",
    "    k+=1\n",
    "    if m.split(\" \")[i].split(\"-\")[0] == m.split(\" \")[i+2]:\n",
    "        l += 1"
   ]
  },
  {
   "cell_type": "code",
   "execution_count": 141,
   "metadata": {
    "collapsed": false
   },
   "outputs": [
    {
     "name": "stdout",
     "output_type": "stream",
     "text": [
      "0.8819875776397516\n"
     ]
    }
   ],
   "source": [
    "print(float(l)/float(k))"
   ]
  },
  {
   "cell_type": "code",
   "execution_count": 138,
   "metadata": {
    "collapsed": false
   },
   "outputs": [
    {
     "data": {
      "text/plain": [
       "0.6714285714285714"
      ]
     },
     "execution_count": 138,
     "metadata": {},
     "output_type": "execute_result"
    }
   ],
   "source": [
    "47/70"
   ]
  },
  {
   "cell_type": "code",
   "execution_count": 192,
   "metadata": {
    "collapsed": false
   },
   "outputs": [
    {
     "data": {
      "image/png": "[encoded data removed]",
      "text/plain": [
       "<matplotlib.figure.Figure at 0x7fe030e7ffd0>"
      ]
     },
     "metadata": {},
     "output_type": "display_data"
    }
   ],
   "source": [
    "i = 1\n",
    "plt.figure(figsize=(10,15))\n",
    "for d in database:\n",
    "    if d[2] == \"bat\":\n",
    "        im2, contours, hierarchy = cv2.findContours(d[0], cv2.RETR_EXTERNAL, cv2.CHAIN_APPROX_NONE)\n",
    "        cnt = contours[0]\n",
    "        epsilon = 0.01*cv2.arcLength(cnt,True)\n",
    "        #print(epsilon)\n",
    "        approx = cv2.approxPolyDP(cnt,epsilon,True)\n",
    "        k = cv2.fillConvexPoly(np.zeros(d[0].shape), approx, (255,0,0), 10)\n",
    "        ax = plt.subplot(7,2,i)\n",
    "        ax.imshow(d[0])\n",
    "        #plt.imshow(approx)\n",
    "        i += 1\n",
    "        if i == 15:\n",
    "            break\n",
    "        \n",
    "plt.show()"
   ]
  },
  {
   "cell_type": "code",
   "execution_count": 214,
   "metadata": {
    "collapsed": true
   },
   "outputs": [],
   "source": [
    "def rotate(strg,n):\n",
    "    return strg[n:] + strg[:n]"
   ]
  },
  {
   "cell_type": "code",
   "execution_count": 218,
   "metadata": {
    "collapsed": false
   },
   "outputs": [
    {
     "data": {
      "text/plain": [
       "'ohell'"
      ]
     },
     "execution_count": 218,
     "metadata": {},
     "output_type": "execute_result"
    }
   ],
   "source": [
    "rotate(\"hello\",4)"
   ]
  },
  {
   "cell_type": "code",
   "execution_count": null,
   "metadata": {
    "collapsed": true
   },
   "outputs": [],
   "source": []
  }
 ],
 "metadata": {
  "kernelspec": {
   "display_name": "Python 3",
   "language": "python",
   "name": "python3"
  },
  "language_info": {
   "codemirror_mode": {
    "name": "ipython",
    "version": 3
   },
   "file_extension": ".py",
   "mimetype": "text/x-python",
   "name": "python",
   "nbconvert_exporter": "python",
   "pygments_lexer": "ipython3",
   "version": "3.6.0"
  }
 },
 "nbformat": 4,
 "nbformat_minor": 2
}
