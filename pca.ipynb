{
 "cells": [
  {
   "cell_type": "code",
   "execution_count": 91,
   "metadata": {},
   "outputs": [],
   "source": [
    "import numpy as np\n",
    "import math\n",
    "import matplotlib.pyplot as plt\n",
    "from PIL import Image"
   ]
  },
  {
   "cell_type": "code",
   "execution_count": 112,
   "metadata": {},
   "outputs": [
    {
     "data": {
      "image/png": "[encoded data removed]",
      "text/plain": [
       "<PIL.PpmImagePlugin.PpmImageFile image mode=L size=512x512 at 0x10DA87860>"
      ]
     },
     "execution_count": 112,
     "metadata": {},
     "output_type": "execute_result"
    }
   ],
   "source": [
    "im = Image.open('database/device0-3.pgm')\n",
    "im"
   ]
  },
  {
   "cell_type": "code",
   "execution_count": 110,
   "metadata": {},
   "outputs": [
    {
     "name": "stdout",
     "output_type": "stream",
     "text": [
      "(512, 512)\n",
      "127.78085309556023\n",
      "(93, 94)\n"
     ]
    }
   ],
   "source": [
    "pixels = []\n",
    "(w, h) = im.size\n",
    "factor = 10\n",
    "\n",
    "for x in range(w):\n",
    "    for y in range(h):\n",
    "        if im.getpixel((x, y)) > 0:\n",
    "            pixels.append([x, y])\n",
    "\n",
    "pixels = np.array(pixels).T\n",
    "(values, vectors) = np.linalg.eig(np.cov(pixels))\n",
    "direction = 1\n",
    "if values[1] > values[0]:\n",
    "    values[0], values[1] = values[1], values[0]\n",
    "    vectors = vectors[::-1,:]\n",
    "angle = math.atan2(vectors[1][1], vectors[1][0]) * 180 / math.pi\n",
    "scales = (int(math.sqrt(values[1])), int(math.sqrt(values[0])))\n",
    "\n",
    "print((w, h))\n",
    "print(angle)\n",
    "print(scales)"
   ]
  },
  {
   "cell_type": "code",
   "execution_count": null,
   "metadata": {
    "collapsed": true
   },
   "outputs": [],
   "source": []
  }
 ],
 "metadata": {
  "kernelspec": {
   "display_name": "Python 3",
   "language": "python",
   "name": "python3"
  },
  "language_info": {
   "codemirror_mode": {
    "name": "ipython",
    "version": 3
   },
   "file_extension": ".py",
   "mimetype": "text/x-python",
   "name": "python",
   "nbconvert_exporter": "python",
   "pygments_lexer": "ipython3",
   "version": "3.6.0"
  }
 },
 "nbformat": 4,
 "nbformat_minor": 2
}
